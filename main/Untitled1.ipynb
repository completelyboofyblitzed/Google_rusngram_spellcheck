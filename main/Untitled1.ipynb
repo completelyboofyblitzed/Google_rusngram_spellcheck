{
 "cells": [
  {
   "cell_type": "code",
   "execution_count": null,
   "metadata": {},
   "outputs": [],
   "source": [
    "def read_corpus(file_path):\n",
    "    \"\"\" Read file, where each word is dilineated by a `\\n`.\n",
    "    @param file_path (str): path to file containing vocabulary\n",
    "    \"\"\"\n",
    "    vocabulary = open(file_path, 'r').read()\n",
    "    data = [word for word in vocabulary.split('\\n')]\n",
    "\n",
    "    return data"
   ]
  },
  {
   "cell_type": "code",
   "execution_count": null,
   "metadata": {},
   "outputs": [],
   "source": []
  },
  {
   "cell_type": "code",
   "execution_count": null,
   "metadata": {},
   "outputs": [],
   "source": [
    "data = read_corpus('../data/vocabulary.txt')\n",
    "V = Vocabulary(data)\n",
    "device = torch.device('cpu')\n",
    "model = CharLM(V.vocab_size, word_len=V.pad_len, emb_dim=128, hidden_size=128)\n",
    "#     model = CharLM(V)\n",
    "model.to(device)\n",
    "model_filename = \"old_rus_lm.pth\" # если есть файл с обученной моделью\n",
    "print('Loading a model')\n",
    "model.load_state_dict(torch.load('../data/' + model_filename, map_location={'cuda:0': 'cpu'}))"
   ]
  },
  {
   "cell_type": "code",
   "execution_count": null,
   "metadata": {},
   "outputs": [],
   "source": []
  },
  {
   "cell_type": "code",
   "execution_count": null,
   "metadata": {},
   "outputs": [],
   "source": [
    "correct = spellCorrect(V=V, model=model)"
   ]
  },
  {
   "cell_type": "code",
   "execution_count": null,
   "metadata": {},
   "outputs": [],
   "source": []
  },
  {
   "cell_type": "code",
   "execution_count": null,
   "metadata": {},
   "outputs": [],
   "source": [
    "correct.to_check('слово', seqprob=False, upper_boundary=0.9, lower_boundary=0.01)"
   ]
  }
 ],
 "metadata": {
  "kernelspec": {
   "display_name": "Python 3",
   "language": "python",
   "name": "python3"
  },
  "language_info": {
   "codemirror_mode": {
    "name": "ipython",
    "version": 3
   },
   "file_extension": ".py",
   "mimetype": "text/x-python",
   "name": "python",
   "nbconvert_exporter": "python",
   "pygments_lexer": "ipython3",
   "version": "3.6.8"
  }
 },
 "nbformat": 4,
 "nbformat_minor": 4
}
